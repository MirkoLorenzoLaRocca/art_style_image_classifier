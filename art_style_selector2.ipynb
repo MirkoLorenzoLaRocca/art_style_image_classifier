{
 "cells": [
  {
   "cell_type": "code",
   "execution_count": 2,
   "metadata": {},
   "outputs": [],
   "source": [
    "import pandas as pd\n",
    "from keras.src.models import Sequential\n",
    "from keras.src.layers import Dense, Flatten, Conv2D, MaxPooling2D, Dropout, Input, AveragePooling2D, GlobalAveragePooling2D\n",
    "from keras.src.optimizers import Adam\n",
    "from sklearn.model_selection import train_test_split\n",
    "from keras.src.callbacks import EarlyStopping\n",
    "import os\n",
    "import matplotlib.pyplot as plt\n",
    "import numpy as np\n",
    "import cv2 as cv\n",
    "import glob\n",
    "from keras.src.applications.resnet import ResNet152"
   ]
  },
  {
   "cell_type": "code",
   "execution_count": null,
   "metadata": {},
   "outputs": [],
   "source": [
    "def createDataset(path, desired_size = 256):\n",
    "    images = []\n",
    "    labels = []\n",
    "    \n",
    "    for label, label_path in enumerate(glob.glob(path + \"/*\")):\n",
    "        for img_path in glob.glob(label_path + \"/*\"):\n",
    "            img = cv.imread(img_path)\n",
    "            img = cv.resize(img, (desired_size, desired_size))\n",
    "            img = img.astype(np.float32) / 255.0  # Normalizzazione\n",
    "            images.append(img)\n",
    "            labels.append(label)\n",
    "            cv.imshow('', img)\n",
    "            break\n",
    "        break\n",
    "    return np.array(images), np.array(labels)"
   ]
  },
  {
   "cell_type": "code",
   "execution_count": null,
   "metadata": {},
   "outputs": [],
   "source": [
    "images, labels = createDataset('data', 256)"
   ]
  },
  {
   "cell_type": "code",
   "execution_count": null,
   "metadata": {},
   "outputs": [],
   "source": [
    "np.save('images2', images)"
   ]
  },
  {
   "cell_type": "code",
   "execution_count": null,
   "metadata": {},
   "outputs": [],
   "source": [
    "np.save('labels', labels)"
   ]
  },
  {
   "cell_type": "code",
   "execution_count": null,
   "metadata": {},
   "outputs": [],
   "source": [
    "x_train, x_val, y_train, y_val = train_test_split(np.load('images2.npy'), np.load('labels.npy'), test_size=0.2, shuffle=True, random_state = 1, stratify=np.load('labels.npy'))\n",
    "x_val, x_test, y_val, y_test = train_test_split(x_val, y_val, test_size=0.05, shuffle=True, random_state = 1, stratify=y_val)\n",
    "print(\"split done\")"
   ]
  },
  {
   "cell_type": "code",
   "execution_count": null,
   "metadata": {},
   "outputs": [],
   "source": [
    "np.save('x_train_rgb_64px', x_train)\n",
    "np.save('y_train_rgb_64px', y_train)\n",
    "np.save('x_test_rgb_64px', x_test)\n",
    "np.save('y_test_rgb_64px', y_test)\n",
    "np.save('x_val_rgb_64px', x_val)\n",
    "np.save('y_val_rgb_64px', y_val)"
   ]
  },
  {
   "cell_type": "code",
   "execution_count": 3,
   "metadata": {},
   "outputs": [],
   "source": [
    "x_train = np.load('x_train_rgb.npy')\n",
    "y_train = np.load('y_train_rgb.npy')\n",
    "x_val = np.load('x_val_rgb.npy')\n",
    "y_val = np.load('y_val_rgb.npy')"
   ]
  },
  {
   "cell_type": "code",
   "execution_count": null,
   "metadata": {},
   "outputs": [],
   "source": [
    "x_test = np.load('x_test_rgb.npy')\n",
    "y_test = np.load('y_test_rgb.npy')"
   ]
  },
  {
   "cell_type": "code",
   "execution_count": 4,
   "metadata": {},
   "outputs": [],
   "source": [
    "data_path = 'data'\n",
    "dirs = os.listdir(data_path)"
   ]
  },
  {
   "cell_type": "code",
   "execution_count": null,
   "metadata": {},
   "outputs": [],
   "source": [
    "'''models = Sequential(\n",
    "    layers = [\n",
    "        Input(shape=(224, 224, 3), batch_size=32),\n",
    "        Conv2D(16, (3, 3), activation='relu'), ## prima era 32\n",
    "        MaxPooling2D((2, 2)),\n",
    "        Conv2D(32, (3, 3), activation='relu'), ## prima era 64\n",
    "        MaxPooling2D((2, 2)),\n",
    "        Conv2D(32, (3, 3), activation='relu'), ## prima era 64\n",
    "        Flatten(),\n",
    "        Dense(64, activation='relu'),\n",
    "        Dropout(0.3),\n",
    "        Dense(128, activation='relu'), \n",
    "        Dense(len(dirs), activation='softmax')\n",
    "    ],\n",
    "    name='softmax_model'\n",
    ")\n",
    "print(\"network created\")'''"
   ]
  },
  {
   "cell_type": "code",
   "execution_count": 5,
   "metadata": {},
   "outputs": [],
   "source": [
    "base_model = ResNet152(weights='imagenet', include_top=False, input_shape=(224, 224, 3))"
   ]
  },
  {
   "cell_type": "code",
   "execution_count": 6,
   "metadata": {},
   "outputs": [],
   "source": [
    "models = Sequential(\n",
    "    layers = [\n",
    "        base_model,\n",
    "        GlobalAveragePooling2D(),\n",
    "        Dropout(0.5),\n",
    "        Dense(512, activation='relu'),\n",
    "        Dropout(0.3),\n",
    "        Dense(256, activation='relu'),\n",
    "        Dropout(0.3),\n",
    "        Dense(128, activation='relu'),\n",
    "        Dropout(0.2),\n",
    "        Dense(len(dirs), activation='softmax')\n",
    "    ]\n",
    ")"
   ]
  },
  {
   "cell_type": "code",
   "execution_count": null,
   "metadata": {},
   "outputs": [],
   "source": [
    "models = Sequential(\n",
    "    layers = [\n",
    "        Input(shape=(224, 224, 3), batch_size=32),\n",
    "        Conv2D(16, (7, 7), activation='relu'),\n",
    "        AveragePooling2D((2, 2)),\n",
    "        Conv2D(32, (7, 7), activation='relu'),\n",
    "        AveragePooling2D((2, 2)),\n",
    "        Conv2D(32, (5, 5), activation='relu'),\n",
    "        AveragePooling2D((2, 2)),\n",
    "        Conv2D(256, (3, 3), activation='relu'),\n",
    "        Flatten(),\n",
    "        Dropout(0.3),\n",
    "        Dense(512, activation='relu'),\n",
    "        Dropout(0.3),\n",
    "        Dense(len(dirs), activation='softmax')\n",
    "    ],\n",
    "    name='softmax_model'\n",
    ")\n",
    "print(\"network created\")"
   ]
  },
  {
   "cell_type": "code",
   "execution_count": null,
   "metadata": {},
   "outputs": [],
   "source": [
    "models = Sequential(\n",
    "    layers = [\n",
    "        Input(shape=(224, 224, 3), batch_size=32),\n",
    "        Conv2D(16, (7, 7), activation='relu'),\n",
    "        MaxPooling2D((2, 2)),\n",
    "        Conv2D(32, (7, 7), activation='relu'),\n",
    "        MaxPooling2D((2, 2)),\n",
    "        Conv2D(64, (5, 5), activation='relu'),\n",
    "        MaxPooling2D((2, 2)),\n",
    "        Conv2D(256, (3, 3), activation='relu'),\n",
    "        Flatten(),\n",
    "        Dropout(0.3),\n",
    "        Dense(512, activation='relu'),\n",
    "        Dropout(0.3),\n",
    "        Dense(len(dirs), activation='softmax')\n",
    "    ],\n",
    "    name='softmax_model'\n",
    ")\n",
    "print(\"network created\")"
   ]
  },
  {
   "cell_type": "code",
   "execution_count": 7,
   "metadata": {},
   "outputs": [
    {
     "name": "stdout",
     "output_type": "stream",
     "text": [
      "model compiled\n"
     ]
    }
   ],
   "source": [
    "# Compiling the model\n",
    "models.compile(optimizer=Adam(), loss='sparse_categorical_crossentropy', metrics=['accuracy'])\n",
    "print(\"model compiled\")\n",
    "# learning_rate dentro Adam()"
   ]
  },
  {
   "cell_type": "code",
   "execution_count": 8,
   "metadata": {},
   "outputs": [],
   "source": [
    "early_stopping = EarlyStopping(monitor='val_loss', patience=2, restore_best_weights=True)"
   ]
  },
  {
   "cell_type": "code",
   "execution_count": 9,
   "metadata": {},
   "outputs": [
    {
     "ename": "",
     "evalue": "",
     "output_type": "error",
     "traceback": [
      "\u001b[1;31mThe Kernel crashed while executing code in the current cell or a previous cell. \n",
      "\u001b[1;31mPlease review the code in the cell(s) to identify a possible cause of the failure. \n",
      "\u001b[1;31mClick <a href='https://aka.ms/vscodeJupyterKernelCrash'>here</a> for more info. \n",
      "\u001b[1;31mView Jupyter <a href='command:jupyter.viewOutput'>log</a> for further details."
     ]
    }
   ],
   "source": [
    "n_epoche = 100"
   ]
  },
  {
   "cell_type": "code",
   "execution_count": 10,
   "metadata": {},
   "outputs": [
    {
     "name": "stdout",
     "output_type": "stream",
     "text": [
      "Epoch 1/100\n"
     ]
    }
   ],
   "source": [
    "# Fitting the model\n",
    "history = models.fit(x_train, y_train, epochs=n_epoche, validation_data=(x_val, y_val), batch_size=32, callbacks=[early_stopping])\n",
    "print(\"model fitted\")"
   ]
  },
  {
   "cell_type": "code",
   "execution_count": null,
   "metadata": {},
   "outputs": [],
   "source": [
    "models.summary()"
   ]
  },
  {
   "cell_type": "code",
   "execution_count": null,
   "metadata": {},
   "outputs": [],
   "source": [
    "# saving the model in a file\n",
    "models.save(filepath=os.path.join(f'{n_epoche}_epoche_soft_max_model.keras'))\n",
    "print(\"model saved\")"
   ]
  },
  {
   "cell_type": "code",
   "execution_count": null,
   "metadata": {},
   "outputs": [],
   "source": [
    "# plotting the accuracy and the loss\n",
    "xx = np.arange(1, 31, 1)\n",
    "plt.subplot(2,1,1)\n",
    "plt.xlabel('Epoche')\n",
    "plt.ylabel('Loss')\n",
    "plt.plot(xx, history['loss'], c='red')\n",
    "plt.plot(xx, history['val_loss'], c='orange')\n",
    "plt.subplot(2,2,1)\n",
    "plt.plot(xx, history['accuracy'], c='green')\n",
    "# plt.plot(xx, history['root_mean_squared_error'], c='red')\n",
    "# plt.plot(xx, history['val_root_mean_squared_error'], c='orange')\n",
    "# plt.xlabel('Epoche')\n",
    "# plt.ylabel('RMSE')\n",
    "plt.show()"
   ]
  }
 ],
 "metadata": {
  "kernelspec": {
   "display_name": "deepLearning",
   "language": "python",
   "name": "python3"
  },
  "language_info": {
   "codemirror_mode": {
    "name": "ipython",
    "version": 3
   },
   "file_extension": ".py",
   "mimetype": "text/x-python",
   "name": "python",
   "nbconvert_exporter": "python",
   "pygments_lexer": "ipython3",
   "version": "3.10.0"
  }
 },
 "nbformat": 4,
 "nbformat_minor": 2
}
